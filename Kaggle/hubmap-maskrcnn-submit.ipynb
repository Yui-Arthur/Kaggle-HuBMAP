{
 "cells": [
  {
   "cell_type": "code",
   "execution_count": 1,
   "id": "8864a71d",
   "metadata": {
    "execution": {
     "iopub.execute_input": "2023-06-17T20:27:33.589629Z",
     "iopub.status.busy": "2023-06-17T20:27:33.589111Z",
     "iopub.status.idle": "2023-06-17T20:27:37.243966Z",
     "shell.execute_reply": "2023-06-17T20:27:37.243009Z"
    },
    "papermill": {
     "duration": 3.66219,
     "end_time": "2023-06-17T20:27:37.246373",
     "exception": false,
     "start_time": "2023-06-17T20:27:33.584183",
     "status": "completed"
    },
    "tags": []
   },
   "outputs": [],
   "source": [
    "import os\n",
    "import numpy as np\n",
    "import torch\n",
    "from PIL import Image\n",
    "import torchvision\n",
    "from torchvision.models.detection.faster_rcnn import FastRCNNPredictor\n",
    "from torchvision.models.detection.mask_rcnn import MaskRCNNPredictor\n",
    "\n",
    "import gc\n",
    "import numpy as np\n",
    "import pandas as pd\n",
    "import torch\n",
    "import os\n",
    "import torch.nn as nn\n",
    "import torchvision.transforms as transforms\n",
    "from torch.utils.data import ConcatDataset, DataLoader, Subset, Dataset\n",
    "from torchvision.datasets import DatasetFolder, VisionDataset\n",
    "# This is for the progress bar.\n",
    "from tqdm.auto import tqdm\n",
    "import random\n",
    "from pathlib import Path\n",
    "import math\n",
    "import cv2\n"
   ]
  },
  {
   "cell_type": "code",
   "execution_count": 2,
   "id": "afd727d7",
   "metadata": {
    "execution": {
     "iopub.execute_input": "2023-06-17T20:27:37.254061Z",
     "iopub.status.busy": "2023-06-17T20:27:37.253541Z",
     "iopub.status.idle": "2023-06-17T20:27:48.981747Z",
     "shell.execute_reply": "2023-06-17T20:27:48.980625Z"
    },
    "papermill": {
     "duration": 11.734606,
     "end_time": "2023-06-17T20:27:48.984211",
     "exception": false,
     "start_time": "2023-06-17T20:27:37.249605",
     "status": "completed"
    },
    "tags": []
   },
   "outputs": [
    {
     "name": "stdout",
     "output_type": "stream",
     "text": [
      "Looking in links: /kaggle/input/pycocotools/wheelhouse\r\n",
      "Processing /kaggle/input/pycocotools/wheelhouse/pycocotools-2.0.6-cp310-cp310-linux_x86_64.whl\r\n",
      "Requirement already satisfied: matplotlib>=2.1.0 in /opt/conda/lib/python3.10/site-packages (from pycocotools) (3.6.3)\r\n",
      "Requirement already satisfied: numpy in /opt/conda/lib/python3.10/site-packages (from pycocotools) (1.23.5)\r\n",
      "Requirement already satisfied: contourpy>=1.0.1 in /opt/conda/lib/python3.10/site-packages (from matplotlib>=2.1.0->pycocotools) (1.0.7)\r\n",
      "Requirement already satisfied: cycler>=0.10 in /opt/conda/lib/python3.10/site-packages (from matplotlib>=2.1.0->pycocotools) (0.11.0)\r\n",
      "Requirement already satisfied: fonttools>=4.22.0 in /opt/conda/lib/python3.10/site-packages (from matplotlib>=2.1.0->pycocotools) (4.39.3)\r\n",
      "Requirement already satisfied: kiwisolver>=1.0.1 in /opt/conda/lib/python3.10/site-packages (from matplotlib>=2.1.0->pycocotools) (1.4.4)\r\n",
      "Requirement already satisfied: packaging>=20.0 in /opt/conda/lib/python3.10/site-packages (from matplotlib>=2.1.0->pycocotools) (21.3)\r\n",
      "Requirement already satisfied: pillow>=6.2.0 in /opt/conda/lib/python3.10/site-packages (from matplotlib>=2.1.0->pycocotools) (9.5.0)\r\n",
      "Requirement already satisfied: pyparsing>=2.2.1 in /opt/conda/lib/python3.10/site-packages (from matplotlib>=2.1.0->pycocotools) (3.0.9)\r\n",
      "Requirement already satisfied: python-dateutil>=2.7 in /opt/conda/lib/python3.10/site-packages (from matplotlib>=2.1.0->pycocotools) (2.8.2)\r\n",
      "Requirement already satisfied: six>=1.5 in /opt/conda/lib/python3.10/site-packages (from python-dateutil>=2.7->matplotlib>=2.1.0->pycocotools) (1.16.0)\r\n",
      "Installing collected packages: pycocotools\r\n",
      "Successfully installed pycocotools-2.0.6\r\n",
      "\u001b[33mWARNING: Running pip as the 'root' user can result in broken permissions and conflicting behaviour with the system package manager. It is recommended to use a virtual environment instead: https://pip.pypa.io/warnings/venv\u001b[0m\u001b[33m\r\n",
      "\u001b[0m"
     ]
    }
   ],
   "source": [
    "! pip install --no-index --find-links /kaggle/input/pycocotools/wheelhouse pycocotools"
   ]
  },
  {
   "cell_type": "code",
   "execution_count": 3,
   "id": "e07c64f6",
   "metadata": {
    "execution": {
     "iopub.execute_input": "2023-06-17T20:27:48.992537Z",
     "iopub.status.busy": "2023-06-17T20:27:48.992217Z",
     "iopub.status.idle": "2023-06-17T20:27:49.006112Z",
     "shell.execute_reply": "2023-06-17T20:27:49.005268Z"
    },
    "papermill": {
     "duration": 0.020494,
     "end_time": "2023-06-17T20:27:49.008196",
     "exception": false,
     "start_time": "2023-06-17T20:27:48.987702",
     "status": "completed"
    },
    "tags": []
   },
   "outputs": [],
   "source": [
    "import base64\n",
    "import numpy as np\n",
    "from pycocotools import _mask as coco_mask\n",
    "import typing as t\n",
    "import zlib\n",
    "\n",
    "\n",
    "def encode_binary_mask(mask: np.ndarray) -> t.Text:\n",
    "    \"\"\"Converts a binary mask into OID challenge encoding ascii text.\"\"\"\n",
    "\n",
    "    # check input mask --\n",
    "    if mask.dtype != np.bool_:\n",
    "        raise ValueError(\n",
    "            \"encode_binary_mask expects a binary mask, received dtype == %s\" %\n",
    "            mask.dtype)\n",
    "\n",
    "    mask = np.squeeze(mask)\n",
    "    if len(mask.shape) != 2:\n",
    "        raise ValueError(\n",
    "            \"encode_binary_mask expects a 2d mask, received shape == %s\" %\n",
    "            mask.shape)\n",
    "\n",
    "  # convert input mask to expected COCO API input --\n",
    "    mask_to_encode = mask.reshape(mask.shape[0], mask.shape[1], 1)\n",
    "    mask_to_encode = mask_to_encode.astype(np.uint8)\n",
    "    mask_to_encode = np.asfortranarray(mask_to_encode)\n",
    "\n",
    "    # RLE encode mask --\n",
    "    encoded_mask = coco_mask.encode(mask_to_encode)[0][\"counts\"]\n",
    "\n",
    "    # compress and base64 encoding --\n",
    "    binary_str = zlib.compress(encoded_mask, zlib.Z_BEST_COMPRESSION)\n",
    "    base64_str = base64.b64encode(binary_str)\n",
    "    return base64_str"
   ]
  },
  {
   "cell_type": "code",
   "execution_count": 4,
   "id": "fa0caeed",
   "metadata": {
    "execution": {
     "iopub.execute_input": "2023-06-17T20:27:49.016032Z",
     "iopub.status.busy": "2023-06-17T20:27:49.015732Z",
     "iopub.status.idle": "2023-06-17T20:27:49.022753Z",
     "shell.execute_reply": "2023-06-17T20:27:49.021917Z"
    },
    "papermill": {
     "duration": 0.013223,
     "end_time": "2023-06-17T20:27:49.024787",
     "exception": false,
     "start_time": "2023-06-17T20:27:49.011564",
     "status": "completed"
    },
    "tags": []
   },
   "outputs": [],
   "source": [
    "def get_model_instance_segmentation(num_classes):\n",
    "    \n",
    "    model = torchvision.models.detection.maskrcnn_resnet50_fpn(weights = None , weights_backbone = None)\n",
    "    \n",
    "    in_features = model.roi_heads.box_predictor.cls_score.in_features\n",
    "    \n",
    "    model.roi_heads.box_predictor = FastRCNNPredictor(in_features, num_classes)\n",
    "\n",
    "    \n",
    "    in_features_mask = model.roi_heads.mask_predictor.conv5_mask.in_channels\n",
    "    hidden_layer = 256\n",
    "    \n",
    "    model.roi_heads.mask_predictor = MaskRCNNPredictor(in_features_mask,\n",
    "                                                       hidden_layer,\n",
    "                                                       num_classes)\n",
    "    \n",
    "    return model"
   ]
  },
  {
   "cell_type": "code",
   "execution_count": 5,
   "id": "ea860927",
   "metadata": {
    "execution": {
     "iopub.execute_input": "2023-06-17T20:27:49.033572Z",
     "iopub.status.busy": "2023-06-17T20:27:49.033254Z",
     "iopub.status.idle": "2023-06-17T20:27:49.043576Z",
     "shell.execute_reply": "2023-06-17T20:27:49.042047Z"
    },
    "papermill": {
     "duration": 0.017508,
     "end_time": "2023-06-17T20:27:49.045635",
     "exception": false,
     "start_time": "2023-06-17T20:27:49.028127",
     "status": "completed"
    },
    "tags": []
   },
   "outputs": [],
   "source": [
    "class KidneyTestingDataset(Dataset):\n",
    "    def __init__(self , image_list , tfm):\n",
    "        self.image_list = image_list\n",
    "        self.tfm = tfm\n",
    "        \n",
    "\n",
    "    def __len__(self):\n",
    "        return len(self.image_list)\n",
    "    \n",
    "    def __getitem__(self,idx):\n",
    "        \n",
    "        img = Image.open(self.image_list[idx])\n",
    "        img = self.tfm(img)\n",
    "        return self.image_list[idx] , img\n",
    "        "
   ]
  },
  {
   "cell_type": "code",
   "execution_count": 6,
   "id": "f31aec12",
   "metadata": {
    "execution": {
     "iopub.execute_input": "2023-06-17T20:27:49.053264Z",
     "iopub.status.busy": "2023-06-17T20:27:49.053002Z",
     "iopub.status.idle": "2023-06-17T20:27:49.060792Z",
     "shell.execute_reply": "2023-06-17T20:27:49.059987Z"
    },
    "papermill": {
     "duration": 0.013804,
     "end_time": "2023-06-17T20:27:49.062810",
     "exception": false,
     "start_time": "2023-06-17T20:27:49.049006",
     "status": "completed"
    },
    "tags": []
   },
   "outputs": [],
   "source": [
    "ROOT = Path(\"/kaggle/input/hubmap-hacking-the-human-vasculature\")\n",
    "\n",
    "image_folder = \"test\"\n",
    "\n",
    "image_list = [str(i) for i  in (ROOT / image_folder).glob('*.tif')]\n",
    "tfm = transforms.Compose([\n",
    "    transforms.ToTensor(),\n",
    "]) \n"
   ]
  },
  {
   "cell_type": "code",
   "execution_count": 7,
   "id": "68c571be",
   "metadata": {
    "execution": {
     "iopub.execute_input": "2023-06-17T20:27:49.070347Z",
     "iopub.status.busy": "2023-06-17T20:27:49.070087Z",
     "iopub.status.idle": "2023-06-17T20:27:54.748628Z",
     "shell.execute_reply": "2023-06-17T20:27:54.747667Z"
    },
    "papermill": {
     "duration": 5.685084,
     "end_time": "2023-06-17T20:27:54.751096",
     "exception": false,
     "start_time": "2023-06-17T20:27:49.066012",
     "status": "completed"
    },
    "tags": []
   },
   "outputs": [],
   "source": [
    "device = \"cuda\" if torch.cuda.is_available() else \"cpu\"\n",
    "\n",
    "# Initialize a model, and put it on the device specified.\n",
    "model = get_model_instance_segmentation(2).to(device)\n",
    "model.load_state_dict(torch.load(\"/kaggle/input/hubmap-model/mask-rcnn-model_best.ckpt\"))\n",
    "batch_size = 4\n",
    "threshold = 0.3\n",
    "model.eval()\n",
    "pass\n",
    "\n"
   ]
  },
  {
   "cell_type": "code",
   "execution_count": 8,
   "id": "1ba64b7a",
   "metadata": {
    "execution": {
     "iopub.execute_input": "2023-06-17T20:27:54.760397Z",
     "iopub.status.busy": "2023-06-17T20:27:54.759511Z",
     "iopub.status.idle": "2023-06-17T20:27:59.367973Z",
     "shell.execute_reply": "2023-06-17T20:27:59.365901Z"
    },
    "papermill": {
     "duration": 4.615397,
     "end_time": "2023-06-17T20:27:59.370222",
     "exception": false,
     "start_time": "2023-06-17T20:27:54.754825",
     "status": "completed"
    },
    "tags": []
   },
   "outputs": [
    {
     "name": "stdout",
     "output_type": "stream",
     "text": [
      "             id height width  \\\n",
      "0  72e40acccadf    512   512   \n",
      "\n",
      "                                   prediction_string  \n",
      "0  0 0.6006835103034973 eNoLNwwxzLEzoC7IjIs2BwAkP...  \n"
     ]
    }
   ],
   "source": [
    "# testset = KidneyTestingDataset(image_list , tfm)\n",
    "# test_loader = DataLoader(testset, batch_size=batch_size, shuffle=False, num_workers=0, pin_memory=True)\n",
    "\n",
    "df = pd.DataFrame(columns=['id' ,'height' ,'width', 'prediction_string'])\n",
    "\n",
    "\n",
    "for i in (ROOT / image_folder).glob('*.tif'):\n",
    "    img = Image.open(i)\n",
    "    img = tfm(img)\n",
    "    rel = model(img.unsqueeze(0).to(device))[0]\n",
    "\n",
    "    masks = rel[\"masks\"].to(\"cpu\").detach().numpy().astype(bool)\n",
    "    boxes = rel[\"boxes\"].to(\"cpu\").detach().numpy()\n",
    "    score = rel[\"scores\"].to(\"cpu\").detach().numpy()\n",
    "\n",
    "    pred_string = \"\"\n",
    "    \n",
    "    for idx in range(len(masks)):\n",
    "#         print(masks[idx][0].shape)\n",
    "        if score[idx] > 0.5:\n",
    "            binary_mask = encode_binary_mask(masks[idx][0]).decode(\"utf-8\")\n",
    "            pred_string += f\"0 {score[idx]} {binary_mask} \"\n",
    "            \n",
    "#     print(pred_string)\n",
    "#     if pred_string == \"\":\n",
    "#         pred_string = \"0 1.0 eNoLTDAwyrM3yI/PMwcAE94DZA==\"\n",
    "    \n",
    "    \n",
    "    new_line = pd.Series({'id': i.stem, 'height': 512 , 'width': 512 , 'prediction_string':pred_string})\n",
    "    df = pd.concat([df, new_line.to_frame().T], ignore_index=True)\n",
    "    \n",
    "\n",
    "    \n",
    "df.to_csv(\"submission.csv\" , index=False)\n",
    "print(df )"
   ]
  }
 ],
 "metadata": {
  "kernelspec": {
   "display_name": "Python 3",
   "language": "python",
   "name": "python3"
  },
  "language_info": {
   "codemirror_mode": {
    "name": "ipython",
    "version": 3
   },
   "file_extension": ".py",
   "mimetype": "text/x-python",
   "name": "python",
   "nbconvert_exporter": "python",
   "pygments_lexer": "ipython3",
   "version": "3.10.10"
  },
  "papermill": {
   "default_parameters": {},
   "duration": 38.71399,
   "end_time": "2023-06-17T20:28:01.890738",
   "environment_variables": {},
   "exception": null,
   "input_path": "__notebook__.ipynb",
   "output_path": "__notebook__.ipynb",
   "parameters": {},
   "start_time": "2023-06-17T20:27:23.176748",
   "version": "2.4.0"
  }
 },
 "nbformat": 4,
 "nbformat_minor": 5
}
