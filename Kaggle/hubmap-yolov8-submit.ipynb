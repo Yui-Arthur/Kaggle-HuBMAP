{
 "cells": [
  {
   "cell_type": "code",
   "execution_count": 1,
   "id": "8bbbd22a",
   "metadata": {
    "execution": {
     "iopub.execute_input": "2023-06-18T08:20:28.210688Z",
     "iopub.status.busy": "2023-06-18T08:20:28.210242Z",
     "iopub.status.idle": "2023-06-18T08:20:40.347954Z",
     "shell.execute_reply": "2023-06-18T08:20:40.346830Z"
    },
    "papermill": {
     "duration": 12.144769,
     "end_time": "2023-06-18T08:20:40.350486",
     "exception": false,
     "start_time": "2023-06-18T08:20:28.205717",
     "status": "completed"
    },
    "tags": []
   },
   "outputs": [
    {
     "name": "stdout",
     "output_type": "stream",
     "text": [
      "Looking in links: /kaggle/input/pycocotools/wheelhouse\r\n",
      "Processing /kaggle/input/pycocotools/wheelhouse/pycocotools-2.0.6-cp310-cp310-linux_x86_64.whl\r\n",
      "Requirement already satisfied: matplotlib>=2.1.0 in /opt/conda/lib/python3.10/site-packages (from pycocotools) (3.6.3)\r\n",
      "Requirement already satisfied: numpy in /opt/conda/lib/python3.10/site-packages (from pycocotools) (1.23.5)\r\n",
      "Requirement already satisfied: contourpy>=1.0.1 in /opt/conda/lib/python3.10/site-packages (from matplotlib>=2.1.0->pycocotools) (1.0.7)\r\n",
      "Requirement already satisfied: cycler>=0.10 in /opt/conda/lib/python3.10/site-packages (from matplotlib>=2.1.0->pycocotools) (0.11.0)\r\n",
      "Requirement already satisfied: fonttools>=4.22.0 in /opt/conda/lib/python3.10/site-packages (from matplotlib>=2.1.0->pycocotools) (4.39.3)\r\n",
      "Requirement already satisfied: kiwisolver>=1.0.1 in /opt/conda/lib/python3.10/site-packages (from matplotlib>=2.1.0->pycocotools) (1.4.4)\r\n",
      "Requirement already satisfied: packaging>=20.0 in /opt/conda/lib/python3.10/site-packages (from matplotlib>=2.1.0->pycocotools) (21.3)\r\n",
      "Requirement already satisfied: pillow>=6.2.0 in /opt/conda/lib/python3.10/site-packages (from matplotlib>=2.1.0->pycocotools) (9.5.0)\r\n",
      "Requirement already satisfied: pyparsing>=2.2.1 in /opt/conda/lib/python3.10/site-packages (from matplotlib>=2.1.0->pycocotools) (3.0.9)\r\n",
      "Requirement already satisfied: python-dateutil>=2.7 in /opt/conda/lib/python3.10/site-packages (from matplotlib>=2.1.0->pycocotools) (2.8.2)\r\n",
      "Requirement already satisfied: six>=1.5 in /opt/conda/lib/python3.10/site-packages (from python-dateutil>=2.7->matplotlib>=2.1.0->pycocotools) (1.16.0)\r\n",
      "Installing collected packages: pycocotools\r\n",
      "Successfully installed pycocotools-2.0.6\r\n",
      "\u001b[33mWARNING: Running pip as the 'root' user can result in broken permissions and conflicting behaviour with the system package manager. It is recommended to use a virtual environment instead: https://pip.pypa.io/warnings/venv\u001b[0m\u001b[33m\r\n",
      "\u001b[0m"
     ]
    }
   ],
   "source": [
    "! pip install --no-index --find-links /kaggle/input/pycocotools/wheelhouse pycocotools"
   ]
  },
  {
   "cell_type": "code",
   "execution_count": 2,
   "id": "17634496",
   "metadata": {
    "execution": {
     "iopub.execute_input": "2023-06-18T08:20:40.358014Z",
     "iopub.status.busy": "2023-06-18T08:20:40.357701Z",
     "iopub.status.idle": "2023-06-18T08:20:51.449621Z",
     "shell.execute_reply": "2023-06-18T08:20:51.448512Z"
    },
    "papermill": {
     "duration": 11.098366,
     "end_time": "2023-06-18T08:20:51.452035",
     "exception": false,
     "start_time": "2023-06-18T08:20:40.353669",
     "status": "completed"
    },
    "tags": []
   },
   "outputs": [
    {
     "name": "stdout",
     "output_type": "stream",
     "text": [
      "Processing /kaggle/input/hubmap-model/ultralytics-8.0.119-py3-none-any.whl\r\n",
      "Requirement already satisfied: matplotlib>=3.2.2 in /opt/conda/lib/python3.10/site-packages (from ultralytics==8.0.119) (3.6.3)\r\n",
      "Requirement already satisfied: opencv-python>=4.6.0 in /opt/conda/lib/python3.10/site-packages (from ultralytics==8.0.119) (4.7.0.72)\r\n",
      "Requirement already satisfied: Pillow>=7.1.2 in /opt/conda/lib/python3.10/site-packages (from ultralytics==8.0.119) (9.5.0)\r\n",
      "Requirement already satisfied: PyYAML>=5.3.1 in /opt/conda/lib/python3.10/site-packages (from ultralytics==8.0.119) (5.4.1)\r\n",
      "Requirement already satisfied: requests>=2.23.0 in /opt/conda/lib/python3.10/site-packages (from ultralytics==8.0.119) (2.28.2)\r\n",
      "Requirement already satisfied: scipy>=1.4.1 in /opt/conda/lib/python3.10/site-packages (from ultralytics==8.0.119) (1.10.1)\r\n",
      "Requirement already satisfied: torch>=1.7.0 in /opt/conda/lib/python3.10/site-packages (from ultralytics==8.0.119) (2.0.0)\r\n",
      "Requirement already satisfied: torchvision>=0.8.1 in /opt/conda/lib/python3.10/site-packages (from ultralytics==8.0.119) (0.15.1)\r\n",
      "Requirement already satisfied: tqdm>=4.64.0 in /opt/conda/lib/python3.10/site-packages (from ultralytics==8.0.119) (4.64.1)\r\n",
      "Requirement already satisfied: pandas>=1.1.4 in /opt/conda/lib/python3.10/site-packages (from ultralytics==8.0.119) (1.5.3)\r\n",
      "Requirement already satisfied: seaborn>=0.11.0 in /opt/conda/lib/python3.10/site-packages (from ultralytics==8.0.119) (0.12.2)\r\n",
      "Requirement already satisfied: psutil in /opt/conda/lib/python3.10/site-packages (from ultralytics==8.0.119) (5.9.3)\r\n",
      "Requirement already satisfied: contourpy>=1.0.1 in /opt/conda/lib/python3.10/site-packages (from matplotlib>=3.2.2->ultralytics==8.0.119) (1.0.7)\r\n",
      "Requirement already satisfied: cycler>=0.10 in /opt/conda/lib/python3.10/site-packages (from matplotlib>=3.2.2->ultralytics==8.0.119) (0.11.0)\r\n",
      "Requirement already satisfied: fonttools>=4.22.0 in /opt/conda/lib/python3.10/site-packages (from matplotlib>=3.2.2->ultralytics==8.0.119) (4.39.3)\r\n",
      "Requirement already satisfied: kiwisolver>=1.0.1 in /opt/conda/lib/python3.10/site-packages (from matplotlib>=3.2.2->ultralytics==8.0.119) (1.4.4)\r\n",
      "Requirement already satisfied: numpy>=1.19 in /opt/conda/lib/python3.10/site-packages (from matplotlib>=3.2.2->ultralytics==8.0.119) (1.23.5)\r\n",
      "Requirement already satisfied: packaging>=20.0 in /opt/conda/lib/python3.10/site-packages (from matplotlib>=3.2.2->ultralytics==8.0.119) (21.3)\r\n",
      "Requirement already satisfied: pyparsing>=2.2.1 in /opt/conda/lib/python3.10/site-packages (from matplotlib>=3.2.2->ultralytics==8.0.119) (3.0.9)\r\n",
      "Requirement already satisfied: python-dateutil>=2.7 in /opt/conda/lib/python3.10/site-packages (from matplotlib>=3.2.2->ultralytics==8.0.119) (2.8.2)\r\n",
      "Requirement already satisfied: pytz>=2020.1 in /opt/conda/lib/python3.10/site-packages (from pandas>=1.1.4->ultralytics==8.0.119) (2023.3)\r\n",
      "Requirement already satisfied: charset-normalizer<4,>=2 in /opt/conda/lib/python3.10/site-packages (from requests>=2.23.0->ultralytics==8.0.119) (2.1.1)\r\n",
      "Requirement already satisfied: idna<4,>=2.5 in /opt/conda/lib/python3.10/site-packages (from requests>=2.23.0->ultralytics==8.0.119) (3.4)\r\n",
      "Requirement already satisfied: urllib3<1.27,>=1.21.1 in /opt/conda/lib/python3.10/site-packages (from requests>=2.23.0->ultralytics==8.0.119) (1.26.15)\r\n",
      "Requirement already satisfied: certifi>=2017.4.17 in /opt/conda/lib/python3.10/site-packages (from requests>=2.23.0->ultralytics==8.0.119) (2023.5.7)\r\n",
      "Requirement already satisfied: filelock in /opt/conda/lib/python3.10/site-packages (from torch>=1.7.0->ultralytics==8.0.119) (3.12.0)\r\n",
      "Requirement already satisfied: typing-extensions in /opt/conda/lib/python3.10/site-packages (from torch>=1.7.0->ultralytics==8.0.119) (4.5.0)\r\n",
      "Requirement already satisfied: sympy in /opt/conda/lib/python3.10/site-packages (from torch>=1.7.0->ultralytics==8.0.119) (1.12)\r\n",
      "Requirement already satisfied: networkx in /opt/conda/lib/python3.10/site-packages (from torch>=1.7.0->ultralytics==8.0.119) (3.1)\r\n",
      "Requirement already satisfied: jinja2 in /opt/conda/lib/python3.10/site-packages (from torch>=1.7.0->ultralytics==8.0.119) (3.1.2)\r\n",
      "Requirement already satisfied: six>=1.5 in /opt/conda/lib/python3.10/site-packages (from python-dateutil>=2.7->matplotlib>=3.2.2->ultralytics==8.0.119) (1.16.0)\r\n",
      "Requirement already satisfied: MarkupSafe>=2.0 in /opt/conda/lib/python3.10/site-packages (from jinja2->torch>=1.7.0->ultralytics==8.0.119) (2.1.2)\r\n",
      "Requirement already satisfied: mpmath>=0.19 in /opt/conda/lib/python3.10/site-packages (from sympy->torch>=1.7.0->ultralytics==8.0.119) (1.3.0)\r\n",
      "Installing collected packages: ultralytics\r\n",
      "Successfully installed ultralytics-8.0.119\r\n",
      "\u001b[33mWARNING: Running pip as the 'root' user can result in broken permissions and conflicting behaviour with the system package manager. It is recommended to use a virtual environment instead: https://pip.pypa.io/warnings/venv\u001b[0m\u001b[33m\r\n",
      "\u001b[0m"
     ]
    }
   ],
   "source": [
    "!pip install /kaggle/input/hubmap-model/ultralytics-8.0.119-py3-none-any.whl"
   ]
  },
  {
   "cell_type": "code",
   "execution_count": 3,
   "id": "732c9184",
   "metadata": {
    "execution": {
     "iopub.execute_input": "2023-06-18T08:20:51.460860Z",
     "iopub.status.busy": "2023-06-18T08:20:51.460557Z",
     "iopub.status.idle": "2023-06-18T08:21:03.563697Z",
     "shell.execute_reply": "2023-06-18T08:21:03.562751Z"
    },
    "papermill": {
     "duration": 12.110247,
     "end_time": "2023-06-18T08:21:03.566098",
     "exception": false,
     "start_time": "2023-06-18T08:20:51.455851",
     "status": "completed"
    },
    "tags": []
   },
   "outputs": [],
   "source": [
    "from ultralytics import YOLO\n",
    "from PIL import Image\n",
    "import cv2\n",
    "from pathlib import Path\n",
    "import pandas as pd"
   ]
  },
  {
   "cell_type": "code",
   "execution_count": 4,
   "id": "21b7d4e9",
   "metadata": {
    "execution": {
     "iopub.execute_input": "2023-06-18T08:21:03.575053Z",
     "iopub.status.busy": "2023-06-18T08:21:03.574556Z",
     "iopub.status.idle": "2023-06-18T08:21:03.584763Z",
     "shell.execute_reply": "2023-06-18T08:21:03.583959Z"
    },
    "papermill": {
     "duration": 0.017099,
     "end_time": "2023-06-18T08:21:03.586936",
     "exception": false,
     "start_time": "2023-06-18T08:21:03.569837",
     "status": "completed"
    },
    "tags": []
   },
   "outputs": [],
   "source": [
    "import base64\n",
    "import numpy as np\n",
    "from pycocotools import _mask as coco_mask\n",
    "import typing as t\n",
    "import zlib\n",
    "\n",
    "\n",
    "def encode_binary_mask(mask: np.ndarray) -> t.Text:\n",
    "    \"\"\"Converts a binary mask into OID challenge encoding ascii text.\"\"\"\n",
    "\n",
    "    # check input mask --\n",
    "    if mask.dtype != np.bool_:\n",
    "        raise ValueError(\n",
    "            \"encode_binary_mask expects a binary mask, received dtype == %s\" %\n",
    "            mask.dtype)\n",
    "\n",
    "    mask = np.squeeze(mask)\n",
    "    if len(mask.shape) != 2:\n",
    "        raise ValueError(\n",
    "            \"encode_binary_mask expects a 2d mask, received shape == %s\" %\n",
    "            mask.shape)\n",
    "\n",
    "  # convert input mask to expected COCO API input --\n",
    "    mask_to_encode = mask.reshape(mask.shape[0], mask.shape[1], 1)\n",
    "    mask_to_encode = mask_to_encode.astype(np.uint8)\n",
    "    mask_to_encode = np.asfortranarray(mask_to_encode)\n",
    "\n",
    "    # RLE encode mask --\n",
    "    encoded_mask = coco_mask.encode(mask_to_encode)[0][\"counts\"]\n",
    "\n",
    "    # compress and base64 encoding --\n",
    "    binary_str = zlib.compress(encoded_mask, zlib.Z_BEST_COMPRESSION)\n",
    "    base64_str = base64.b64encode(binary_str)\n",
    "    return base64_str"
   ]
  },
  {
   "cell_type": "code",
   "execution_count": 5,
   "id": "45efb7e1",
   "metadata": {
    "execution": {
     "iopub.execute_input": "2023-06-18T08:21:03.594937Z",
     "iopub.status.busy": "2023-06-18T08:21:03.594664Z",
     "iopub.status.idle": "2023-06-18T08:21:03.764955Z",
     "shell.execute_reply": "2023-06-18T08:21:03.763813Z"
    },
    "papermill": {
     "duration": 0.177349,
     "end_time": "2023-06-18T08:21:03.767754",
     "exception": false,
     "start_time": "2023-06-18T08:21:03.590405",
     "status": "completed"
    },
    "tags": []
   },
   "outputs": [],
   "source": [
    "ROOT = Path(\"/kaggle/input/hubmap-hacking-the-human-vasculature\")\n",
    "\n",
    "image_folder = \"test\"\n",
    "\n",
    "image_list = [str(i) for i  in (ROOT / image_folder).glob('*.tif')]\n",
    "model = YOLO(\"/kaggle/input/hubmap-model/best.pt\")"
   ]
  },
  {
   "cell_type": "code",
   "execution_count": 6,
   "id": "ac3ecaf4",
   "metadata": {
    "execution": {
     "iopub.execute_input": "2023-06-18T08:21:03.776525Z",
     "iopub.status.busy": "2023-06-18T08:21:03.776188Z",
     "iopub.status.idle": "2023-06-18T08:21:24.066295Z",
     "shell.execute_reply": "2023-06-18T08:21:24.065056Z"
    },
    "papermill": {
     "duration": 20.296806,
     "end_time": "2023-06-18T08:21:24.068419",
     "exception": false,
     "start_time": "2023-06-18T08:21:03.771613",
     "status": "completed"
    },
    "tags": []
   },
   "outputs": [
    {
     "name": "stderr",
     "output_type": "stream",
     "text": [
      "/opt/conda/lib/python3.10/site-packages/tensorflow_io/python/ops/__init__.py:98: UserWarning: unable to load libtensorflow_io_plugins.so: unable to open file: libtensorflow_io_plugins.so, from paths: ['/opt/conda/lib/python3.10/site-packages/tensorflow_io/python/ops/libtensorflow_io_plugins.so']\n",
      "caused by: ['/opt/conda/lib/python3.10/site-packages/tensorflow_io/python/ops/libtensorflow_io_plugins.so: undefined symbol: _ZN3tsl6StatusC1EN10tensorflow5error4CodeESt17basic_string_viewIcSt11char_traitsIcEENS_14SourceLocationE']\n",
      "  warnings.warn(f\"unable to load libtensorflow_io_plugins.so: {e}\")\n",
      "/opt/conda/lib/python3.10/site-packages/tensorflow_io/python/ops/__init__.py:104: UserWarning: file system plugins are not loaded: unable to open file: libtensorflow_io.so, from paths: ['/opt/conda/lib/python3.10/site-packages/tensorflow_io/python/ops/libtensorflow_io.so']\n",
      "caused by: ['/opt/conda/lib/python3.10/site-packages/tensorflow_io/python/ops/libtensorflow_io.so: undefined symbol: _ZTVN10tensorflow13GcsFileSystemE']\n",
      "  warnings.warn(f\"file system plugins are not loaded: {e}\")\n",
      "\n",
      "0: 512x512 17 targets, 6.2ms\n",
      "Speed: 6.5ms preprocess, 6.2ms inference, 23.9ms postprocess per image at shape (1, 3, 512, 512)\n"
     ]
    },
    {
     "name": "stdout",
     "output_type": "stream",
     "text": [
      "             id height width  \\\n",
      "0  72e40acccadf    512   512   \n",
      "\n",
      "                                   prediction_string  \n",
      "0  0 0.9163355827331543 eNqLjggytUyxN/Mx8jP0B2FDA...  \n"
     ]
    }
   ],
   "source": [
    "df = pd.DataFrame(columns=['id' ,'height' ,'width', 'prediction_string'])\n",
    "\n",
    "# cnt = 0\n",
    "for i in (ROOT / image_folder).glob('*.tif'):\n",
    "    im2 = cv2.imread(str(i))\n",
    "    results = model.predict(source=im2)  # save predictions as labels\n",
    "    pred_string = \"\"\n",
    "    \n",
    "    if results[0].masks != None:\n",
    "    \n",
    "        masks = results[0].masks.data.to('cpu').detach().numpy().astype(bool)\n",
    "        boxes = results[0].boxes.xyxy.to('cpu').detach().numpy()\n",
    "        score = results[0].boxes.conf.to('cpu').detach().numpy()\n",
    "\n",
    "        \n",
    "\n",
    "        for idx in range(len(masks)):\n",
    "            if score[idx] > 0.5:\n",
    "                binary_mask = encode_binary_mask(masks[idx]).decode(\"utf-8\")\n",
    "                pred_string += f\"0 {score[idx]} {binary_mask} \"\n",
    "\n",
    "    new_line = pd.Series({'id': i.stem, 'height': 512 , 'width': 512 , 'prediction_string':pred_string})\n",
    "    df = pd.concat([df, new_line.to_frame().T], ignore_index=True)\n",
    "    \n",
    "#     cnt += 1\n",
    "    \n",
    "#     if cnt == 100:\n",
    "#         break\n",
    "    \n",
    "df.to_csv(\"submission.csv\" , index=False)\n",
    "print(df)"
   ]
  }
 ],
 "metadata": {
  "kernelspec": {
   "display_name": "Python 3",
   "language": "python",
   "name": "python3"
  },
  "language_info": {
   "codemirror_mode": {
    "name": "ipython",
    "version": 3
   },
   "file_extension": ".py",
   "mimetype": "text/x-python",
   "name": "python",
   "nbconvert_exporter": "python",
   "pygments_lexer": "ipython3",
   "version": "3.10.10"
  },
  "papermill": {
   "default_parameters": {},
   "duration": 72.775684,
   "end_time": "2023-06-18T08:21:30.224678",
   "environment_variables": {},
   "exception": null,
   "input_path": "__notebook__.ipynb",
   "output_path": "__notebook__.ipynb",
   "parameters": {},
   "start_time": "2023-06-18T08:20:17.448994",
   "version": "2.4.0"
  }
 },
 "nbformat": 4,
 "nbformat_minor": 5
}
